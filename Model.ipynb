{
 "cells": [
  {
   "cell_type": "code",
   "execution_count": 1,
   "id": "36060948-c640-4c0a-ace7-d490d8002f21",
   "metadata": {},
   "outputs": [],
   "source": [
    "import pandas as pd\n",
    "import sklearn"
   ]
  },
  {
   "cell_type": "code",
   "execution_count": null,
   "id": "fcf9cdbc-994d-4f6a-88c3-5d4f8faf49ad",
   "metadata": {},
   "outputs": [],
   "source": [
    "source = ''"
   ]
  },
  {
   "cell_type": "code",
   "execution_count": null,
   "id": "58ed5b55-123d-4096-a249-079150ba5fa2",
   "metadata": {},
   "outputs": [],
   "source": [
    "recommendation_system = sklearn.SVC(df['rating'), lr=0.001, alpha = 0.1)"
   ]
  },
  {
   "cell_type": "code",
   "execution_count": null,
   "id": "d24e0479-2251-460f-9cb7-3a9fc1ae87e4",
   "metadata": {},
   "outputs": [],
   "source": [
    "recomendatio_system.train(df['recomendation_official'])"
   ]
  },
  {
   "cell_type": "code",
   "execution_count": null,
   "id": "b096a3c0-3953-428f-965e-d0e99d6c4bd5",
   "metadata": {},
   "outputs": [],
   "source": []
  }
 ],
 "metadata": {
  "kernelspec": {
   "display_name": "Python 3 (ipykernel)",
   "language": "python",
   "name": "python3"
  },
  "language_info": {
   "codemirror_mode": {
    "name": "ipython",
    "version": 3
   },
   "file_extension": ".py",
   "mimetype": "text/x-python",
   "name": "python",
   "nbconvert_exporter": "python",
   "pygments_lexer": "ipython3",
   "version": "3.12.3"
  }
 },
 "nbformat": 4,
 "nbformat_minor": 5
}
